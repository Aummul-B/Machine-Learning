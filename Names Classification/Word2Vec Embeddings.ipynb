{
 "cells": [
  {
   "cell_type": "markdown",
   "metadata": {},
   "source": [
    "### Intuition behind this approach:\n",
    "* There can be an alternate way to capture more information for representing each name as a vector\n",
    "* Each name is made of letters\n",
    "* Combination of letters that occur together in words are specific to that language\n",
    "* Using this \"context\" of such letter combinations can result in better evaluation of features for a name\n",
    "* Here, I will create tokens of size 't' and take 'n' Grams to catch the context of each token\n",
    "* Then Word2Vec [https://arxiv.org/abs/1301.3781] is used to create vectors for each token\n",
    "* For each name, it can be broken down to its own tokens and use the above Word2Vec vector to represent the name\n",
    "* I shall be using averaging to create feature space of names from its token Vectors"
   ]
  },
  {
   "cell_type": "code",
   "execution_count": 1,
   "metadata": {
    "collapsed": true
   },
   "outputs": [],
   "source": [
    "import pandas as pd\n",
    "import numpy as np"
   ]
  },
  {
   "cell_type": "code",
   "execution_count": 2,
   "metadata": {
    "collapsed": true
   },
   "outputs": [],
   "source": [
    "data=pd.read_table('hindu_baby_names.txt',sep='\\n',names=['Names'])"
   ]
  },
  {
   "cell_type": "code",
   "execution_count": 3,
   "metadata": {},
   "outputs": [
    {
     "data": {
      "text/html": [
       "<div>\n",
       "<table border=\"1\" class=\"dataframe\">\n",
       "  <thead>\n",
       "    <tr style=\"text-align: right;\">\n",
       "      <th></th>\n",
       "      <th>Names</th>\n",
       "    </tr>\n",
       "  </thead>\n",
       "  <tbody>\n",
       "    <tr>\n",
       "      <th>0</th>\n",
       "      <td>aabha</td>\n",
       "    </tr>\n",
       "    <tr>\n",
       "      <th>1</th>\n",
       "      <td>aabharan</td>\n",
       "    </tr>\n",
       "    <tr>\n",
       "      <th>2</th>\n",
       "      <td>aabheer</td>\n",
       "    </tr>\n",
       "    <tr>\n",
       "      <th>3</th>\n",
       "      <td>aachman</td>\n",
       "    </tr>\n",
       "    <tr>\n",
       "      <th>4</th>\n",
       "      <td>or puja</td>\n",
       "    </tr>\n",
       "  </tbody>\n",
       "</table>\n",
       "</div>"
      ],
      "text/plain": [
       "      Names\n",
       "0     aabha\n",
       "1  aabharan\n",
       "2   aabheer\n",
       "3   aachman\n",
       "4   or puja"
      ]
     },
     "execution_count": 3,
     "metadata": {},
     "output_type": "execute_result"
    }
   ],
   "source": [
    "data.head()"
   ]
  },
  {
   "cell_type": "markdown",
   "metadata": {},
   "source": [
    "### Checking for Null values"
   ]
  },
  {
   "cell_type": "code",
   "execution_count": 4,
   "metadata": {},
   "outputs": [
    {
     "data": {
      "text/plain": [
       "False"
      ]
     },
     "execution_count": 4,
     "metadata": {},
     "output_type": "execute_result"
    }
   ],
   "source": [
    "data['Names'].isnull().values.any()"
   ]
  },
  {
   "cell_type": "code",
   "execution_count": 5,
   "metadata": {
    "collapsed": true
   },
   "outputs": [],
   "source": [
    "data=data['Names'].str.lower()"
   ]
  },
  {
   "cell_type": "markdown",
   "metadata": {},
   "source": [
    "### Check if any rows have duplicate values"
   ]
  },
  {
   "cell_type": "code",
   "execution_count": 6,
   "metadata": {},
   "outputs": [
    {
     "data": {
      "text/plain": [
       "False    7299\n",
       "True      891\n",
       "Name: Names, dtype: int64"
      ]
     },
     "execution_count": 6,
     "metadata": {},
     "output_type": "execute_result"
    }
   ],
   "source": [
    "rows=data.duplicated(keep='first')\n",
    "rows.value_counts()"
   ]
  },
  {
   "cell_type": "markdown",
   "metadata": {},
   "source": [
    "* We have a total of 428 names which are duplicates.\n",
    "* keep='first' keeps the first value as False and marks the rest of the duplicates as True"
   ]
  },
  {
   "cell_type": "code",
   "execution_count": 7,
   "metadata": {
    "collapsed": true
   },
   "outputs": [],
   "source": [
    "dataCopy=data.copy()"
   ]
  },
  {
   "cell_type": "markdown",
   "metadata": {},
   "source": [
    "### Split data in training and testing\n",
    "    "
   ]
  },
  {
   "cell_type": "code",
   "execution_count": 8,
   "metadata": {
    "collapsed": true
   },
   "outputs": [],
   "source": [
    "#Split Size is the percentage of data in training set\n",
    "def splitData(dataCopy,splitSize):\n",
    "    trainData=[]\n",
    "    testData=[]\n",
    "    trainNames=dataCopy[:int(.01*splitSize*len(dataCopy))]\n",
    "    testNames=dataCopy[len(trainNames):]\n",
    "\n",
    "    for i in range(len(trainNames)):\n",
    "        trainData.append(trainNames.iloc[i])\n",
    "    for i in range(len(testNames)):\n",
    "        testData.append(testNames.iloc[i])\n",
    "        \n",
    "    print(\"Number of names in training Set: \"+str(len(trainData)))\n",
    "    print(\"Number of names in test Set: \"+str(len(testData)))\n",
    "    return trainData,testData"
   ]
  },
  {
   "cell_type": "code",
   "execution_count": 9,
   "metadata": {},
   "outputs": [
    {
     "name": "stdout",
     "output_type": "stream",
     "text": [
      "Number of names in training Set: 7780\n",
      "Number of names in test Set: 410\n"
     ]
    }
   ],
   "source": [
    "trainNames,testNames=splitData(dataCopy,95)"
   ]
  },
  {
   "cell_type": "markdown",
   "metadata": {},
   "source": [
    "### Creating corpus of the names\n"
   ]
  },
  {
   "cell_type": "markdown",
   "metadata": {},
   "source": [
    "* Will remove all words occuring separately (i.e separated by space from real names)\n",
    "* Also remove the punctuations present in the names"
   ]
  },
  {
   "cell_type": "code",
   "execution_count": 10,
   "metadata": {
    "collapsed": true
   },
   "outputs": [],
   "source": [
    "def removeNoisyWords(text):\n",
    "    stopList=set('or a the and it is if to in for of'.split())\n",
    "    result=[]\n",
    "    for name in text:\n",
    "        words=name.lower().split()\n",
    "        temp=[]\n",
    "        for i in words:\n",
    "            if i not in stopList:\n",
    "                temp.extend(i)\n",
    "        result.append(temp)   \n",
    "    return result"
   ]
  },
  {
   "cell_type": "code",
   "execution_count": 11,
   "metadata": {
    "collapsed": true
   },
   "outputs": [],
   "source": [
    "def cleanText(t):\n",
    "    return ''.join(l.strip(',.\"!?;:()/\\'') for l in t)"
   ]
  },
  {
   "cell_type": "code",
   "execution_count": 12,
   "metadata": {},
   "outputs": [
    {
     "data": {
      "text/plain": [
       "['aabha', 'aabharan', 'aabheer', 'aachman', 'or puja']"
      ]
     },
     "execution_count": 12,
     "metadata": {},
     "output_type": "execute_result"
    }
   ],
   "source": [
    "trainNames[:5]"
   ]
  },
  {
   "cell_type": "code",
   "execution_count": 13,
   "metadata": {
    "collapsed": true
   },
   "outputs": [],
   "source": [
    "trainNames=removeNoisyWords(trainNames)\n",
    "trainNames=[cleanText(n) for n in trainNames]"
   ]
  },
  {
   "cell_type": "code",
   "execution_count": 14,
   "metadata": {},
   "outputs": [
    {
     "data": {
      "text/plain": [
       "['aabha', 'aabharan', 'aabheer', 'aachman', 'puja']"
      ]
     },
     "execution_count": 14,
     "metadata": {},
     "output_type": "execute_result"
    }
   ],
   "source": [
    "trainNames[:5]"
   ]
  },
  {
   "cell_type": "markdown",
   "metadata": {},
   "source": [
    "* for example: or is removed from puja which was present earlier"
   ]
  },
  {
   "cell_type": "code",
   "execution_count": 15,
   "metadata": {
    "collapsed": true
   },
   "outputs": [],
   "source": [
    "totalNames=trainNames+testNames"
   ]
  },
  {
   "cell_type": "markdown",
   "metadata": {},
   "source": [
    "### Creating tokens by taking 'n' tokens of 't' letters at a time"
   ]
  },
  {
   "cell_type": "code",
   "execution_count": 16,
   "metadata": {
    "collapsed": true
   },
   "outputs": [],
   "source": [
    "def createNGramsFromCorpus(corpus,t,n):\n",
    "    nGramData=[]\n",
    "    for i in corpus:\n",
    "        tokenized=generateTokens(i,t)\n",
    "        ngram=generateNgrams(tokenized,n)\n",
    "        nGramData.extend(ngram)\n",
    "    return nGramData\n",
    "\n",
    "def generateTokens(text,n):\n",
    "    letters=text\n",
    "    output=[]\n",
    "    for i in range(len(letters)-n+1):\n",
    "        output.append(letters[i:i+n])\n",
    "    return output\n",
    "\n",
    "def generateNgrams(tokens,n):\n",
    "    output=[]\n",
    "    for i in range(len(tokens)-n+1):\n",
    "        output.append(tokens[i:i+n])\n",
    "    return output"
   ]
  },
  {
   "cell_type": "code",
   "execution_count": 17,
   "metadata": {
    "collapsed": true
   },
   "outputs": [],
   "source": [
    "class text:\n",
    "    def __init__(self,data,tokenSize,nGram):\n",
    "        self.data=createNGramsFromCorpus(data,tokenSize,nGram)\n",
    "        self.tokenSize=tokenSize\n",
    "        self.nGram=nGram"
   ]
  },
  {
   "cell_type": "markdown",
   "metadata": {},
   "source": [
    "### Generate Embeddings of each token"
   ]
  },
  {
   "cell_type": "markdown",
   "metadata": {},
   "source": [
    "* Using Gensim Library to create Word2Vec representation of tokens\n",
    "* Link (Gensim) : https://radimrehurek.com/gensim/"
   ]
  },
  {
   "cell_type": "code",
   "execution_count": 18,
   "metadata": {},
   "outputs": [
    {
     "name": "stderr",
     "output_type": "stream",
     "text": [
      "C:\\Users\\Siddharth\\Anaconda3\\envs\\tensorflow-gpu\\lib\\site-packages\\gensim\\utils.py:1197: UserWarning: detected Windows; aliasing chunkize to chunkize_serial\n",
      "  warnings.warn(\"detected Windows; aliasing chunkize to chunkize_serial\")\n"
     ]
    }
   ],
   "source": [
    "from gensim.models import Word2Vec"
   ]
  },
  {
   "cell_type": "code",
   "execution_count": 19,
   "metadata": {
    "collapsed": true
   },
   "outputs": [],
   "source": [
    "def formWord2Vec(data,size=100,window=5):\n",
    "    return Word2Vec(data,size,window)"
   ]
  },
  {
   "cell_type": "markdown",
   "metadata": {},
   "source": [
    "* The above function takes in the data\n",
    "* This data is a list of lists of tokens taken n tokens together to catch the context "
   ]
  },
  {
   "cell_type": "markdown",
   "metadata": {},
   "source": [
    "### Visualize the word embedding"
   ]
  },
  {
   "cell_type": "markdown",
   "metadata": {},
   "source": [
    "* A 2-dimensional representation using PCA dimensionality reduction\n",
    "* This must not be taken to word but it does gives a slight intuition to see how token lie on the vector space"
   ]
  },
  {
   "cell_type": "code",
   "execution_count": 20,
   "metadata": {
    "collapsed": true
   },
   "outputs": [],
   "source": [
    "from sklearn.decomposition import PCA\n",
    "from matplotlib import pyplot as plt\n",
    "%matplotlib inline"
   ]
  },
  {
   "cell_type": "code",
   "execution_count": 21,
   "metadata": {
    "collapsed": true
   },
   "outputs": [],
   "source": [
    "def visualizePCA(model):\n",
    "    #using 2 components for PCA to visualize in 2 dimension\n",
    "    pca=PCA(n_components=2)\n",
    "    result=pca.fit_transform(model[model.wv.vocab])\n",
    "    plt.scatter(result[:,0],result[:,1],alpha=.2)\n",
    "    letters=list(model.wv.vocab)\n",
    "    for i in range(0,len(letters)):\n",
    "        letter=letters[i]\n",
    "        plt.annotate(letter,xy=(result[i,0],result[i,1]))\n",
    "    plt.title(\"Model 2-d Visualization\")\n",
    "    plt.show()"
   ]
  },
  {
   "cell_type": "code",
   "execution_count": 22,
   "metadata": {
    "collapsed": true
   },
   "outputs": [],
   "source": [
    "def visualizePCA1(df,names):\n",
    "    #using 2 components for PCA to visualize in 2 dimension\n",
    "    pca=PCA(n_components=2)\n",
    "    result=pca.fit_transform(df)\n",
    "    plt.scatter(result[:,0],result[:,1],alpha=.2)\n",
    "    for i in range(0,len(names),100):\n",
    "        name=names[i]\n",
    "        plt.annotate(name,xy=(result[i,0],result[i,1]))\n",
    "    plt.title(\"Model 2-d Visualization\")\n",
    "    plt.show()"
   ]
  },
  {
   "cell_type": "markdown",
   "metadata": {},
   "source": [
    "### Create dictionary of words to vectors"
   ]
  },
  {
   "cell_type": "markdown",
   "metadata": {},
   "source": [
    "* This dictionary will be a mapping of token to its vector representation"
   ]
  },
  {
   "cell_type": "code",
   "execution_count": 23,
   "metadata": {
    "collapsed": true
   },
   "outputs": [],
   "source": [
    "def generateMapping(m):\n",
    "    w2v={l:vec for l,vec in zip(m.wv.index2word,m.wv.vectors)}\n",
    "    return w2v"
   ]
  },
  {
   "cell_type": "markdown",
   "metadata": {},
   "source": [
    "### Get Mean of Vectors of tokens in a name to represent names as vectors"
   ]
  },
  {
   "cell_type": "markdown",
   "metadata": {},
   "source": [
    "* This is just a basic method, that first came to my mind.\n",
    "* Intuition is that the mean of each token in the name will give us a way to represent the name as a vector"
   ]
  },
  {
   "cell_type": "code",
   "execution_count": 24,
   "metadata": {
    "collapsed": true
   },
   "outputs": [],
   "source": [
    "def getMean(text,d,tokenSize):\n",
    "    letters=d.keys()\n",
    "    dim=len(d[next(iter(letters))])\n",
    "    #print(dim)\n",
    "    text=generateTokens(text,tokenSize)\n",
    "    #print(text)\n",
    "    \n",
    "    mean=np.mean([d[l] for l in text if l in d]\n",
    "                or [np.zeros(dim)],axis=0)\n",
    "    return np.array(mean)\n",
    "\n",
    "def getVectorsOfNames(tokenSize,text,d):\n",
    "    newText=[]\n",
    "    for name in text:\n",
    "        name=name.lower()\n",
    "        mean=getMean(name,d,tokenSize)\n",
    "        newText.append([name,mean])\n",
    "    return pd.DataFrame(newText)\n",
    "\n",
    "def getFeatureSet(textDF):\n",
    "    rowList=[]\n",
    "    for i in range(len(textDF)):\n",
    "        row=textDF.iloc[i][1]\n",
    "        rowList.append(row)\n",
    "    featureSet=pd.DataFrame(rowList)\n",
    "    return featureSet"
   ]
  },
  {
   "cell_type": "markdown",
   "metadata": {},
   "source": [
    "* These functions will return a DataFrame which will represent the feature set of all the names in the text passed. \n",
    "* Each name is represented by 100 features as each token had 100 features from word2Vec model"
   ]
  },
  {
   "cell_type": "markdown",
   "metadata": {},
   "source": [
    "### One Class SVM Model"
   ]
  },
  {
   "cell_type": "markdown",
   "metadata": {},
   "source": [
    "* OneClassSVM is a boundary method\n",
    "* It assumes a hypersphere around the target class"
   ]
  },
  {
   "cell_type": "code",
   "execution_count": 25,
   "metadata": {
    "collapsed": true
   },
   "outputs": [],
   "source": [
    "from sklearn.svm import OneClassSVM\n",
    "from sklearn.model_selection import validation_curve\n",
    "from sklearn.model_selection import learning_curve"
   ]
  },
  {
   "cell_type": "code",
   "execution_count": 26,
   "metadata": {
    "collapsed": true
   },
   "outputs": [],
   "source": [
    "#train Model for one class classificatio\n",
    "def trainModelOCC(model,X,y):\n",
    "    model.fit(X,y)  \n",
    "    return model\n",
    "\n",
    "def predict(model,names,d,tokenSize): \n",
    "    #print(names)\n",
    "    vec=getVectorsOfNames(tokenSize,names,d)\n",
    "    vec=getFeatureSet(vec)\n",
    "    #print(vec)\n",
    "    return model.predict(vec)"
   ]
  },
  {
   "cell_type": "markdown",
   "metadata": {},
   "source": [
    "### Plot Learning Curve"
   ]
  },
  {
   "cell_type": "markdown",
   "metadata": {},
   "source": [
    "* This graph plots the learning curve \n",
    "* Plots Training and Validation Curve on the training data \n",
    "* Can be used to infer bias and variance \n",
    "* Can also be used to infer if more data is required for the training"
   ]
  },
  {
   "cell_type": "code",
   "execution_count": 27,
   "metadata": {
    "collapsed": true
   },
   "outputs": [],
   "source": [
    "def plotLearningCurve(estimator,title,X,y,n_jobs=1,scoring=\"accuracy\"):\n",
    "    plt.title(title)\n",
    "    plt.xlabel(\"Training Examples\")\n",
    "    plt.ylabel(scoring)\n",
    "    train_sizes,train_scores,test_scores=learning_curve(estimator,\n",
    "                                                    X,y,\n",
    "                                                   n_jobs=2,scoring=\"accuracy\")\n",
    "    train_scores_mean=np.mean(train_scores,axis=1)\n",
    "    train_scores_std=np.std(train_scores,axis=1)\n",
    "    test_scores_mean=np.mean(test_scores,axis=1)\n",
    "    test_scores_std=np.std(test_scores,axis=1)\n",
    "    \n",
    "    plt.fill_between(train_sizes,train_scores_mean-train_scores_std,\n",
    "                    train_scores_mean+train_scores_std,alpha=0.1,color='g')\n",
    "    \n",
    "    plt.fill_between(train_sizes,test_scores_mean-test_scores_std,\n",
    "                    test_scores_mean+test_scores_std,alpha=0.1,color='r')\n",
    "    plt.plot(train_sizes,train_scores_mean,'o-',color='g',label=\"Training Score\")\n",
    "    plt.plot(train_sizes,test_scores_mean,'o-',color='r',label=\"Cross Validation Score\")\n",
    "    plt.legend(loc=\"best\")\n",
    "    return plt"
   ]
  },
  {
   "cell_type": "markdown",
   "metadata": {},
   "source": [
    "### Get the text from the negative Classes"
   ]
  },
  {
   "cell_type": "markdown",
   "metadata": {},
   "source": [
    "* The following lines bring together the names form the negative_class files\n",
    "* Some percentage of target class is also attached to create a typical unseen test set"
   ]
  },
  {
   "cell_type": "code",
   "execution_count": 28,
   "metadata": {
    "collapsed": true
   },
   "outputs": [],
   "source": [
    "df1=pd.read_table('negative_class_1.txt',sep='\\n',names=['Names'])\n",
    "df2=pd.read_table('negative_class_2.txt',sep='\\n',names=['Names'])\n",
    "df1=df1.append(df2,ignore_index=True)\n",
    "testFilesCorpus=[]\n",
    "for i in range(len(df1)):\n",
    "    word=df1.iloc[i]\n",
    "    testFilesCorpus.extend(word)"
   ]
  },
  {
   "cell_type": "markdown",
   "metadata": {},
   "source": [
    "### Trying out tokenSize=2 and 2gram approach"
   ]
  },
  {
   "cell_type": "markdown",
   "metadata": {},
   "source": [
    "#### Model intuition:\n",
    "* Trying out tokens of size two and 2gram \n",
    "* I think to capture the intricacies of a language, the essence lies in the context of a token too.\n",
    "i.e: for a name \"aditya\" (I know hindi so have a bit of learning already present in the model :P),\n",
    "    the context of it is di, ty and this is unique to this language"
   ]
  },
  {
   "cell_type": "code",
   "execution_count": 29,
   "metadata": {},
   "outputs": [
    {
     "data": {
      "text/plain": [
       "[['aa', 'ab'], ['ab', 'bh'], ['bh', 'ha'], ['aa', 'ab'], ['ab', 'bh']]"
      ]
     },
     "execution_count": 29,
     "metadata": {},
     "output_type": "execute_result"
    }
   ],
   "source": [
    "#Create Text Class object using 2as token size and 2 as ngram parameter\n",
    "twoT2GramObj=text(trainNames,2,2)\n",
    "twoT2GramObj.data[:5]"
   ]
  },
  {
   "cell_type": "code",
   "execution_count": 30,
   "metadata": {},
   "outputs": [
    {
     "data": {
      "text/html": [
       "<div>\n",
       "<table border=\"1\" class=\"dataframe\">\n",
       "  <thead>\n",
       "    <tr style=\"text-align: right;\">\n",
       "      <th></th>\n",
       "      <th>0</th>\n",
       "      <th>1</th>\n",
       "    </tr>\n",
       "  </thead>\n",
       "  <tbody>\n",
       "    <tr>\n",
       "      <th>0</th>\n",
       "      <td>aabha</td>\n",
       "      <td>[10.0508, -49.6078, 7.72161, 39.583, -21.3384,...</td>\n",
       "    </tr>\n",
       "    <tr>\n",
       "      <th>1</th>\n",
       "      <td>aabharan</td>\n",
       "      <td>[3.41646, -30.8064, 7.09217, 21.268, -10.146, ...</td>\n",
       "    </tr>\n",
       "    <tr>\n",
       "      <th>2</th>\n",
       "      <td>aabheer</td>\n",
       "      <td>[10.3983, -23.3914, -3.25525, -2.96071, -11.97...</td>\n",
       "    </tr>\n",
       "    <tr>\n",
       "      <th>3</th>\n",
       "      <td>aachman</td>\n",
       "      <td>[-5.68943, 2.66237, 2.67407, -3.03496, 4.52307...</td>\n",
       "    </tr>\n",
       "    <tr>\n",
       "      <th>4</th>\n",
       "      <td>puja</td>\n",
       "      <td>[0.321058, 3.53594, -1.59582, 0.287695, 0.6121...</td>\n",
       "    </tr>\n",
       "  </tbody>\n",
       "</table>\n",
       "</div>"
      ],
      "text/plain": [
       "          0                                                  1\n",
       "0     aabha  [10.0508, -49.6078, 7.72161, 39.583, -21.3384,...\n",
       "1  aabharan  [3.41646, -30.8064, 7.09217, 21.268, -10.146, ...\n",
       "2   aabheer  [10.3983, -23.3914, -3.25525, -2.96071, -11.97...\n",
       "3   aachman  [-5.68943, 2.66237, 2.67407, -3.03496, 4.52307...\n",
       "4      puja  [0.321058, 3.53594, -1.59582, 0.287695, 0.6121..."
      ]
     },
     "execution_count": 30,
     "metadata": {},
     "output_type": "execute_result"
    }
   ],
   "source": [
    "#Get the word2Vec model of tokens and generate the mapping dictionary\n",
    "twoT2GramModel=formWord2Vec(twoT2GramObj.data,100,5)\n",
    "token2Vec2Gram=generateMapping(twoT2GramModel)\n",
    "newText=getVectorsOfNames(twoT2GramObj.tokenSize,trainNames,token2Vec2Gram)\n",
    "newText.head()"
   ]
  },
  {
   "cell_type": "code",
   "execution_count": 31,
   "metadata": {},
   "outputs": [
    {
     "data": {
      "text/plain": [
       "100"
      ]
     },
     "execution_count": 31,
     "metadata": {},
     "output_type": "execute_result"
    }
   ],
   "source": [
    "twoT2GramVectors=twoT2GramModel.wv.vectors\n",
    "len(twoT2GramVectors[0])"
   ]
  },
  {
   "cell_type": "code",
   "execution_count": 32,
   "metadata": {
    "scrolled": true
   },
   "outputs": [
    {
     "name": "stderr",
     "output_type": "stream",
     "text": [
      "C:\\Users\\Siddharth\\Anaconda3\\envs\\tensorflow-gpu\\lib\\site-packages\\ipykernel\\__main__.py:4: DeprecationWarning: Call to deprecated `__getitem__` (Method will be removed in 4.0.0, use self.wv.__getitem__() instead).\n"
     ]
    },
    {
     "data": {
      "image/png": "[encoded data removed]",
      "text/plain": [
       "<matplotlib.figure.Figure at 0x16d7e3c5fd0>"
      ]
     },
     "metadata": {},
     "output_type": "display_data"
    }
   ],
   "source": [
    "visualizePCA(twoT2GramModel)"
   ]
  },
  {
   "cell_type": "markdown",
   "metadata": {},
   "source": [
    "* This gives a slight idea as to which token are most dissimilar\n",
    "* for example token 'ov', 'ry', 'mv' are quite not similar to other tokens in the corpus\n",
    "* While there are major tokens which are quite close to each other as seen by this vector representation"
   ]
  },
  {
   "cell_type": "code",
   "execution_count": 33,
   "metadata": {},
   "outputs": [
    {
     "name": "stdout",
     "output_type": "stream",
     "text": [
      "Len of target for twoT2GramModel:  7780\n"
     ]
    },
    {
     "data": {
      "text/html": [
       "<div>\n",
       "<table border=\"1\" class=\"dataframe\">\n",
       "  <thead>\n",
       "    <tr style=\"text-align: right;\">\n",
       "      <th></th>\n",
       "      <th>0</th>\n",
       "      <th>1</th>\n",
       "      <th>2</th>\n",
       "      <th>3</th>\n",
       "      <th>4</th>\n",
       "      <th>5</th>\n",
       "      <th>6</th>\n",
       "      <th>7</th>\n",
       "      <th>8</th>\n",
       "      <th>9</th>\n",
       "      <th>...</th>\n",
       "      <th>90</th>\n",
       "      <th>91</th>\n",
       "      <th>92</th>\n",
       "      <th>93</th>\n",
       "      <th>94</th>\n",
       "      <th>95</th>\n",
       "      <th>96</th>\n",
       "      <th>97</th>\n",
       "      <th>98</th>\n",
       "      <th>99</th>\n",
       "    </tr>\n",
       "  </thead>\n",
       "  <tbody>\n",
       "    <tr>\n",
       "      <th>0</th>\n",
       "      <td>10.050795</td>\n",
       "      <td>-49.607838</td>\n",
       "      <td>7.721610</td>\n",
       "      <td>39.582989</td>\n",
       "      <td>-21.338398</td>\n",
       "      <td>10.355021</td>\n",
       "      <td>-53.137154</td>\n",
       "      <td>-16.827623</td>\n",
       "      <td>4.533923</td>\n",
       "      <td>19.924849</td>\n",
       "      <td>...</td>\n",
       "      <td>-5.393654</td>\n",
       "      <td>34.443214</td>\n",
       "      <td>-13.838934</td>\n",
       "      <td>-16.123631</td>\n",
       "      <td>55.591663</td>\n",
       "      <td>50.834503</td>\n",
       "      <td>-15.493417</td>\n",
       "      <td>-28.772703</td>\n",
       "      <td>-46.040539</td>\n",
       "      <td>13.312883</td>\n",
       "    </tr>\n",
       "    <tr>\n",
       "      <th>1</th>\n",
       "      <td>3.416457</td>\n",
       "      <td>-30.806416</td>\n",
       "      <td>7.092168</td>\n",
       "      <td>21.267973</td>\n",
       "      <td>-10.146004</td>\n",
       "      <td>2.425238</td>\n",
       "      <td>-32.312103</td>\n",
       "      <td>-8.185226</td>\n",
       "      <td>4.697194</td>\n",
       "      <td>10.482541</td>\n",
       "      <td>...</td>\n",
       "      <td>-1.034902</td>\n",
       "      <td>20.298885</td>\n",
       "      <td>-5.760800</td>\n",
       "      <td>-9.695436</td>\n",
       "      <td>34.203259</td>\n",
       "      <td>27.035671</td>\n",
       "      <td>-6.670780</td>\n",
       "      <td>-11.678495</td>\n",
       "      <td>-23.899408</td>\n",
       "      <td>10.897584</td>\n",
       "    </tr>\n",
       "    <tr>\n",
       "      <th>2</th>\n",
       "      <td>10.398293</td>\n",
       "      <td>-23.391397</td>\n",
       "      <td>-3.255251</td>\n",
       "      <td>-2.960714</td>\n",
       "      <td>-11.970840</td>\n",
       "      <td>16.833242</td>\n",
       "      <td>-0.865150</td>\n",
       "      <td>9.906204</td>\n",
       "      <td>1.931464</td>\n",
       "      <td>0.166122</td>\n",
       "      <td>...</td>\n",
       "      <td>-7.854983</td>\n",
       "      <td>6.734295</td>\n",
       "      <td>-7.242342</td>\n",
       "      <td>-5.198123</td>\n",
       "      <td>3.176944</td>\n",
       "      <td>11.917618</td>\n",
       "      <td>8.571862</td>\n",
       "      <td>-6.153461</td>\n",
       "      <td>-19.799334</td>\n",
       "      <td>-10.031060</td>\n",
       "    </tr>\n",
       "    <tr>\n",
       "      <th>3</th>\n",
       "      <td>-5.689430</td>\n",
       "      <td>2.662374</td>\n",
       "      <td>2.674074</td>\n",
       "      <td>-3.034958</td>\n",
       "      <td>4.523075</td>\n",
       "      <td>-7.928298</td>\n",
       "      <td>4.785340</td>\n",
       "      <td>-0.933866</td>\n",
       "      <td>-0.593988</td>\n",
       "      <td>0.579849</td>\n",
       "      <td>...</td>\n",
       "      <td>2.121967</td>\n",
       "      <td>-1.322114</td>\n",
       "      <td>4.988269</td>\n",
       "      <td>-3.706886</td>\n",
       "      <td>-1.198215</td>\n",
       "      <td>-8.044875</td>\n",
       "      <td>1.226244</td>\n",
       "      <td>11.702876</td>\n",
       "      <td>11.110764</td>\n",
       "      <td>5.573938</td>\n",
       "    </tr>\n",
       "    <tr>\n",
       "      <th>4</th>\n",
       "      <td>0.321058</td>\n",
       "      <td>3.535942</td>\n",
       "      <td>-1.595822</td>\n",
       "      <td>0.287695</td>\n",
       "      <td>0.612175</td>\n",
       "      <td>-0.514337</td>\n",
       "      <td>4.223338</td>\n",
       "      <td>-2.642908</td>\n",
       "      <td>-4.052870</td>\n",
       "      <td>-0.296513</td>\n",
       "      <td>...</td>\n",
       "      <td>-1.324447</td>\n",
       "      <td>-2.528291</td>\n",
       "      <td>1.303692</td>\n",
       "      <td>-2.077476</td>\n",
       "      <td>-3.184217</td>\n",
       "      <td>0.019546</td>\n",
       "      <td>0.106671</td>\n",
       "      <td>0.188165</td>\n",
       "      <td>1.201208</td>\n",
       "      <td>0.296020</td>\n",
       "    </tr>\n",
       "  </tbody>\n",
       "</table>\n",
       "<p>5 rows × 100 columns</p>\n",
       "</div>"
      ],
      "text/plain": [
       "          0          1         2          3          4          5          6   \\\n",
       "0  10.050795 -49.607838  7.721610  39.582989 -21.338398  10.355021 -53.137154   \n",
       "1   3.416457 -30.806416  7.092168  21.267973 -10.146004   2.425238 -32.312103   \n",
       "2  10.398293 -23.391397 -3.255251  -2.960714 -11.970840  16.833242  -0.865150   \n",
       "3  -5.689430   2.662374  2.674074  -3.034958   4.523075  -7.928298   4.785340   \n",
       "4   0.321058   3.535942 -1.595822   0.287695   0.612175  -0.514337   4.223338   \n",
       "\n",
       "          7         8          9     ...            90         91         92  \\\n",
       "0 -16.827623  4.533923  19.924849    ...     -5.393654  34.443214 -13.838934   \n",
       "1  -8.185226  4.697194  10.482541    ...     -1.034902  20.298885  -5.760800   \n",
       "2   9.906204  1.931464   0.166122    ...     -7.854983   6.734295  -7.242342   \n",
       "3  -0.933866 -0.593988   0.579849    ...      2.121967  -1.322114   4.988269   \n",
       "4  -2.642908 -4.052870  -0.296513    ...     -1.324447  -2.528291   1.303692   \n",
       "\n",
       "          93         94         95         96         97         98         99  \n",
       "0 -16.123631  55.591663  50.834503 -15.493417 -28.772703 -46.040539  13.312883  \n",
       "1  -9.695436  34.203259  27.035671  -6.670780 -11.678495 -23.899408  10.897584  \n",
       "2  -5.198123   3.176944  11.917618   8.571862  -6.153461 -19.799334 -10.031060  \n",
       "3  -3.706886  -1.198215  -8.044875   1.226244  11.702876  11.110764   5.573938  \n",
       "4  -2.077476  -3.184217   0.019546   0.106671   0.188165   1.201208   0.296020  \n",
       "\n",
       "[5 rows x 100 columns]"
      ]
     },
     "execution_count": 33,
     "metadata": {},
     "output_type": "execute_result"
    }
   ],
   "source": [
    "#Get the Feature Set of the trainNames in the twoT2GramModel\n",
    "twoT2GramTextFS=getFeatureSet(newText)\n",
    "y=[1 for _ in range(len(newText))]\n",
    "print(\"Len of target for twoT2GramModel: \",len(y))\n",
    "twoT2GramTextFS.head()"
   ]
  },
  {
   "cell_type": "code",
   "execution_count": 34,
   "metadata": {
    "scrolled": true
   },
   "outputs": [
    {
     "data": {
      "image/png": "[encoded data removed]",
      "text/plain": [
       "<matplotlib.figure.Figure at 0x16d008473c8>"
      ]
     },
     "metadata": {},
     "output_type": "display_data"
    }
   ],
   "source": [
    "visualizePCA1(twoT2GramTextFS,trainNames)"
   ]
  },
  {
   "cell_type": "markdown",
   "metadata": {},
   "source": [
    "#### Analysis:\n",
    "* Word2Vec here is giving more dense cluster of names than last approach of one hot encoding\n",
    "* This maybe because here we have used the context of each token\n",
    "* This looks better!"
   ]
  },
  {
   "cell_type": "markdown",
   "metadata": {},
   "source": [
    "* Creating oneClassSVM object using poly kernel\n",
    "* Since here we have feature set that is dense so maybe poly kernel will be a better fit than linear\n",
    "* First we will plot the learning curve"
   ]
  },
  {
   "cell_type": "code",
   "execution_count": 35,
   "metadata": {
    "collapsed": true
   },
   "outputs": [],
   "source": [
    "polySVM22Model=OneClassSVM(kernel='poly')"
   ]
  },
  {
   "cell_type": "markdown",
   "metadata": {},
   "source": [
    "* Plotting Learning Curve for the 2token 2gram model"
   ]
  },
  {
   "cell_type": "code",
   "execution_count": null,
   "metadata": {
    "collapsed": true
   },
   "outputs": [],
   "source": [
    "plotLearningCurve(polySVM22Model,\"Polynomial Kernel One SVM\",twoT2GramTextFS,y,1,\"accuracy\")"
   ]
  },
  {
   "cell_type": "code",
   "execution_count": 36,
   "metadata": {
    "collapsed": true
   },
   "outputs": [],
   "source": [
    "testData=testNames+testFilesCorpus"
   ]
  },
  {
   "cell_type": "code",
   "execution_count": 37,
   "metadata": {},
   "outputs": [
    {
     "name": "stdout",
     "output_type": "stream",
     "text": [
      "['apparajito', 'aprameya', 'apratihat', 'apratim', 'apremeya'] [1, 1, 1, 1, 1] ['Zulfah', 'Zumzum', 'Zunairah', 'Zynah', 'Zyva'] [1, 1, 1, 1, 1]\n"
     ]
    }
   ],
   "source": [
    "y1=[1 for _ in testNames]\n",
    "y2=[-1 for _ in testFilesCorpus]\n",
    "testDataTarget=y1+y2\n",
    "print(testData[:5],y[:5],testData[-5:],y[-5:])"
   ]
  },
  {
   "cell_type": "code",
   "execution_count": 38,
   "metadata": {
    "collapsed": true
   },
   "outputs": [],
   "source": [
    "#Get the Feature set that represents the test Data\n",
    "testDataFS=getVectorsOfNames(twoT2GramObj.tokenSize,testData,token2Vec2Gram)\n",
    "testDataFS=getFeatureSet(testDataFS)"
   ]
  },
  {
   "cell_type": "code",
   "execution_count": null,
   "metadata": {
    "collapsed": true
   },
   "outputs": [],
   "source": [
    "polySVM22Model.fit(twoT2GramTextFS)\n",
    "testError1=polySVM.predict(testDataFS)\n",
    "confusion_matrix(testDataTarget,testError1)"
   ]
  },
  {
   "cell_type": "markdown",
   "metadata": {},
   "source": [
    "* Ran this for whole night but still couldnt finish training"
   ]
  },
  {
   "cell_type": "markdown",
   "metadata": {},
   "source": [
    "#### Analysis:"
   ]
  },
  {
   "cell_type": "markdown",
   "metadata": {},
   "source": [
    "### Check tokenSize=2 and 3Grams for context "
   ]
  },
  {
   "cell_type": "markdown",
   "metadata": {},
   "source": [
    "#### Intuition:\n",
    "* Maybe creating more context for each token of the name can give us more information for each name\n",
    "* This will help us catch more sequence structure of names"
   ]
  },
  {
   "cell_type": "code",
   "execution_count": 39,
   "metadata": {},
   "outputs": [
    {
     "name": "stderr",
     "output_type": "stream",
     "text": [
      "C:\\Users\\Siddharth\\Anaconda3\\envs\\tensorflow-gpu\\lib\\site-packages\\ipykernel\\__main__.py:4: DeprecationWarning: Call to deprecated `__getitem__` (Method will be removed in 4.0.0, use self.wv.__getitem__() instead).\n"
     ]
    },
    {
     "data": {
      "image/png": "[encoded data removed]",
      "text/plain": [
       "<matplotlib.figure.Figure at 0x16d7de7b748>"
      ]
     },
     "metadata": {},
     "output_type": "display_data"
    }
   ],
   "source": [
    "#Create Text Class object using 2 as token size and 3 as ngram parameter\n",
    "twoT3GramObj=text(trainNames,2,3)\n",
    "\n",
    "#Get the word2Vec model of tokens and generate the mapping dictionary\n",
    "twoT3GramModel=formWord2Vec(twoT3GramObj.data,100,5)\n",
    "token2Vec23=generateMapping(twoT3GramModel)\n",
    "\n",
    "#Create Feature set of TrainNames\n",
    "twoT3GramText=getVectorsOfNames(twoT3GramObj.tokenSize,trainNames,token2Vec23)\n",
    "twoT3GramVectors=twoT3GramModel.wv.vectors\n",
    "\n",
    "#Visualizing USing 2component PCA\n",
    "visualizePCA(twoT3GramModel)"
   ]
  },
  {
   "cell_type": "code",
   "execution_count": 40,
   "metadata": {},
   "outputs": [
    {
     "name": "stdout",
     "output_type": "stream",
     "text": [
      "['apparajito', 'aprameya', 'apratihat', 'apratim', 'apremeya'] [1, 1, 1, 1, 1] ['Zulfah', 'Zumzum', 'Zunairah', 'Zynah', 'Zyva'] [1, 1, 1, 1, 1]\n"
     ]
    }
   ],
   "source": [
    "#Get the Feature Set of the trainNames in the twoT2GramModel\n",
    "twoT3GramTextFS=getFeatureSet(twoT3GramText)\n",
    "\n",
    "#Creating Target for test Corpus\n",
    "y1=[1 for _ in testNames]\n",
    "y2=[-1 for _ in testFilesCorpus]\n",
    "testDataTarget=y1+y2\n",
    "print(testData[:5],y[:5],testData[-5:],y[-5:])"
   ]
  },
  {
   "cell_type": "code",
   "execution_count": 41,
   "metadata": {
    "collapsed": true
   },
   "outputs": [],
   "source": [
    "#Get the Feature set that represents the test Data\n",
    "testData23FS=getVectorsOfNames(twoT3GramObj.tokenSize,testData,token2Vec23)\n",
    "testData23FS=getFeatureSet(testDataFS)"
   ]
  },
  {
   "cell_type": "code",
   "execution_count": 42,
   "metadata": {},
   "outputs": [
    {
     "data": {
      "image/png": "[encoded data removed]",
      "text/plain": [
       "<matplotlib.figure.Figure at 0x16d008e8f98>"
      ]
     },
     "metadata": {},
     "output_type": "display_data"
    }
   ],
   "source": [
    "visualizePCA1(twoT3GramTextFS,trainNames)"
   ]
  },
  {
   "cell_type": "code",
   "execution_count": null,
   "metadata": {
    "collapsed": true
   },
   "outputs": [],
   "source": [
    "polySVM23Model.fit(twoT3GramTextFS)\n",
    "testError2=polySVM.predict(testData23FS)\n",
    "confusion_matrix(testDataTarget,testError2)"
   ]
  },
  {
   "cell_type": "markdown",
   "metadata": {},
   "source": [
    "#### Trying out 3 token 2gram approach"
   ]
  },
  {
   "cell_type": "code",
   "execution_count": 43,
   "metadata": {
    "collapsed": true
   },
   "outputs": [],
   "source": [
    "#Make object of text class\n",
    "threeToken2GramObj=text(totalNames,3,2)"
   ]
  },
  {
   "cell_type": "code",
   "execution_count": 44,
   "metadata": {
    "collapsed": true
   },
   "outputs": [],
   "source": [
    "#form word2 vec model\n",
    "threeToken2GramM=formWord2Vec(threeToken2GramObj.data,100,5)"
   ]
  },
  {
   "cell_type": "code",
   "execution_count": 45,
   "metadata": {},
   "outputs": [
    {
     "name": "stderr",
     "output_type": "stream",
     "text": [
      "C:\\Users\\Siddharth\\Anaconda3\\envs\\tensorflow-gpu\\lib\\site-packages\\ipykernel\\__main__.py:4: DeprecationWarning: Call to deprecated `__getitem__` (Method will be removed in 4.0.0, use self.wv.__getitem__() instead).\n"
     ]
    },
    {
     "data": {
      "image/png": "[encoded data removed]",
      "text/plain": [
       "<matplotlib.figure.Figure at 0x16d06de0978>"
      ]
     },
     "metadata": {},
     "output_type": "display_data"
    }
   ],
   "source": [
    "visualizePCA(threeToken2GramM)"
   ]
  },
  {
   "cell_type": "markdown",
   "metadata": {},
   "source": [
    "#### Analysis:\n",
    "* Strong similarity between most tokens\n",
    "* Some tokens are quite dissimilar to others"
   ]
  },
  {
   "cell_type": "code",
   "execution_count": 46,
   "metadata": {
    "collapsed": true
   },
   "outputs": [],
   "source": [
    "#Generate mapping from token to vector\n",
    "tToken2Gram2Vec=generateMapping(threeToken2GramM)"
   ]
  },
  {
   "cell_type": "code",
   "execution_count": 47,
   "metadata": {
    "collapsed": true
   },
   "outputs": [],
   "source": [
    "#Generate mean vectors to represent each name\n",
    "tToken2GramText=getVectorsOfNames(threeToken2GramObj.tokenSize,totalNames,tToken2Gram2Vec)"
   ]
  },
  {
   "cell_type": "code",
   "execution_count": 48,
   "metadata": {
    "collapsed": true
   },
   "outputs": [],
   "source": [
    "#get feature set of these names\n",
    "tToken2GramFS=getFeatureSet(tToken2GramText)"
   ]
  },
  {
   "cell_type": "code",
   "execution_count": 49,
   "metadata": {},
   "outputs": [
    {
     "data": {
      "image/png": "[encoded data removed]",
      "text/plain": [
       "<matplotlib.figure.Figure at 0x16d06de0898>"
      ]
     },
     "metadata": {},
     "output_type": "display_data"
    }
   ],
   "source": [
    "visualizePCA1(tToken2GramFS,totalNames)"
   ]
  },
  {
   "cell_type": "code",
   "execution_count": 98,
   "metadata": {},
   "outputs": [
    {
     "data": {
      "text/plain": [
       "(8190, 100)"
      ]
     },
     "execution_count": 98,
     "metadata": {},
     "output_type": "execute_result"
    }
   ],
   "source": [
    "tToken2GramFS.shape"
   ]
  },
  {
   "cell_type": "code",
   "execution_count": 99,
   "metadata": {},
   "outputs": [
    {
     "data": {
      "text/plain": [
       "<module 'matplotlib.pyplot' from 'C:\\\\Users\\\\Siddharth\\\\Anaconda3\\\\envs\\\\tensorflow-gpu\\\\lib\\\\site-packages\\\\matplotlib\\\\pyplot.py'>"
      ]
     },
     "execution_count": 99,
     "metadata": {},
     "output_type": "execute_result"
    },
    {
     "data": {
      "image/png": "[encoded data removed]",
      "text/plain": [
       "<matplotlib.figure.Figure at 0x18572b87860>"
      ]
     },
     "metadata": {},
     "output_type": "display_data"
    }
   ],
   "source": [
    "plotLearningCurve(linearSVM,\"Linear Kernel One SVM\",tToken2GramFS,y,1,\"accuracy\")"
   ]
  },
  {
   "cell_type": "code",
   "execution_count": 50,
   "metadata": {
    "collapsed": true
   },
   "outputs": [],
   "source": [
    "plt.show()"
   ]
  },
  {
   "cell_type": "markdown",
   "metadata": {
    "collapsed": true
   },
   "source": [
    "### Analysis:\n",
    "* This approach is a testing ground for me\n",
    "* This is a \"Token2Vec\" approach\n",
    "* But this approach is very interesting as it tries to not only use the last approach but take the context of those tokens too\n",
    "* This context can help us represent names better\n",
    "* This context may also be a helpful way to learn the sequence structure \n",
    "* Word2Vec has gained much momemtum in the recent past and a very popular technique\n",
    "* To form sentence representation out of token embeddings is also a research problem\n",
    "* I have used average of each vector\n",
    "* We can also use autoencoders to learn some latent representation of words\n",
    "* We can train a classifer on these representation (like OneClassSVM) for one class classification"
   ]
  },
  {
   "cell_type": "code",
   "execution_count": null,
   "metadata": {
    "collapsed": true
   },
   "outputs": [],
   "source": []
  }
 ],
 "metadata": {
  "kernelspec": {
   "display_name": "Python [conda env:tensorflow-gpu]",
   "language": "python",
   "name": "conda-env-tensorflow-gpu-py"
  },
  "language_info": {
   "codemirror_mode": {
    "name": "ipython",
    "version": 3
   },
   "file_extension": ".py",
   "mimetype": "text/x-python",
   "name": "python",
   "nbconvert_exporter": "python",
   "pygments_lexer": "ipython3",
   "version": "3.5.3"
  }
 },
 "nbformat": 4,
 "nbformat_minor": 2
}
